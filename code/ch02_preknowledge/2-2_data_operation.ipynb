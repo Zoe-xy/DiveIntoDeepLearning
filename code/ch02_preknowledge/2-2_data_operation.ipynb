{
 "cells": [
  {
   "cell_type": "markdown",
   "metadata": {},
   "source": [
    "## 数据操作\n",
    "### tensor操作"
   ]
  },
  {
   "cell_type": "markdown",
   "metadata": {},
   "source": [
    "### 1.tensor的创建"
   ]
  },
  {
   "cell_type": "code",
   "execution_count": 1,
   "metadata": {},
   "outputs": [
    {
     "name": "stdout",
     "output_type": "stream",
     "text": [
      "tensor([[7.6728e+34, 4.5916e+27, 9.7374e+15],\n",
      "        [1.1578e+27, 4.3600e+27, 2.8996e+35],\n",
      "        [7.4289e+28, 2.6687e+20, 1.6244e+19],\n",
      "        [1.4351e-19, 2.7530e+12, 7.5338e+28],\n",
      "        [5.6542e+05, 1.1614e+27, 1.9430e-19]])\n"
     ]
    }
   ],
   "source": [
    "import torch\n",
    "x=torch.empty(5,3)#5*3的未初始化的tensor\n",
    "print(x)"
   ]
  },
  {
   "cell_type": "code",
   "execution_count": 2,
   "metadata": {},
   "outputs": [
    {
     "name": "stdout",
     "output_type": "stream",
     "text": [
      "tensor([[0.0889, 0.5923, 0.2946],\n",
      "        [0.4116, 0.3431, 0.3291],\n",
      "        [0.2632, 0.8994, 0.8653],\n",
      "        [0.6747, 0.2467, 0.4824],\n",
      "        [0.8485, 0.5676, 0.8477]])\n"
     ]
    }
   ],
   "source": [
    "x=torch.rand(5,3)#随机初始化的tensor\n",
    "print(x)"
   ]
  },
  {
   "cell_type": "code",
   "execution_count": 3,
   "metadata": {},
   "outputs": [
    {
     "name": "stdout",
     "output_type": "stream",
     "text": [
      "tensor([[0, 0, 0],\n",
      "        [0, 0, 0],\n",
      "        [0, 0, 0],\n",
      "        [0, 0, 0],\n",
      "        [0, 0, 0]])\n"
     ]
    }
   ],
   "source": [
    "x=torch.zeros(5,3,dtype=torch.long)#long型全0的tensor\n",
    "print(x)"
   ]
  },
  {
   "cell_type": "code",
   "execution_count": 4,
   "metadata": {},
   "outputs": [
    {
     "name": "stdout",
     "output_type": "stream",
     "text": [
      "tensor([5.5000, 3.0000])\n"
     ]
    }
   ],
   "source": [
    "x=torch.tensor([5.5,3])#直接用数据创建\n",
    "print(x)"
   ]
  },
  {
   "cell_type": "code",
   "execution_count": 7,
   "metadata": {},
   "outputs": [
    {
     "name": "stdout",
     "output_type": "stream",
     "text": [
      "tensor([[1., 1., 1.],\n",
      "        [1., 1., 1.],\n",
      "        [1., 1., 1.],\n",
      "        [1., 1., 1.],\n",
      "        [1., 1., 1.]], dtype=torch.float64)\n",
      "tensor([[-5.1612e-01, -1.0816e-01,  1.4252e-03],\n",
      "        [-1.1978e-01,  1.1110e+00, -2.7205e-01],\n",
      "        [-4.6467e-02, -3.3716e-01, -1.6166e+00],\n",
      "        [-2.9310e-01,  1.2526e+00, -1.6284e+00],\n",
      "        [-6.2475e-01, -2.0883e+00,  5.1083e-01]])\n"
     ]
    }
   ],
   "source": [
    "x=x.new_ones(5,3,dtype=torch.float64) #使用已有的tensor来创建，默认重用一些属性\n",
    "print(x)\n",
    "\n",
    "x=torch.randn_like(x,dtype=torch.float)#制定新的数据类型\n",
    "print(x)"
   ]
  },
  {
   "cell_type": "code",
   "execution_count": 8,
   "metadata": {},
   "outputs": [
    {
     "name": "stdout",
     "output_type": "stream",
     "text": [
      "torch.Size([5, 3])\n",
      "torch.Size([5, 3])\n"
     ]
    }
   ],
   "source": [
    "print(x.size())\n",
    "print(x.shape)"
   ]
  },
  {
   "cell_type": "markdown",
   "metadata": {},
   "source": [
    "### 2.tensor的操作"
   ]
  },
  {
   "cell_type": "markdown",
   "metadata": {},
   "source": [
    "#### 加法"
   ]
  },
  {
   "cell_type": "code",
   "execution_count": 10,
   "metadata": {},
   "outputs": [
    {
     "name": "stdout",
     "output_type": "stream",
     "text": [
      "tensor([[ 0.2426,  0.5949,  0.0682],\n",
      "        [ 0.1195,  1.1386,  0.7269],\n",
      "        [ 0.1535, -0.1836, -0.6945],\n",
      "        [-0.0986,  2.2287, -1.4086],\n",
      "        [-0.1263, -1.7757,  0.6453]])\n"
     ]
    }
   ],
   "source": [
    "y=torch.rand(5,3)\n",
    "print(x+y)  #加法形式一"
   ]
  },
  {
   "cell_type": "code",
   "execution_count": 12,
   "metadata": {},
   "outputs": [
    {
     "name": "stdout",
     "output_type": "stream",
     "text": [
      "tensor([[ 0.2426,  0.5949,  0.0682],\n",
      "        [ 0.1195,  1.1386,  0.7269],\n",
      "        [ 0.1535, -0.1836, -0.6945],\n",
      "        [-0.0986,  2.2287, -1.4086],\n",
      "        [-0.1263, -1.7757,  0.6453]])\n"
     ]
    }
   ],
   "source": [
    "print(torch.add(x,y))#:加法形式二"
   ]
  },
  {
   "cell_type": "code",
   "execution_count": 13,
   "metadata": {},
   "outputs": [
    {
     "name": "stdout",
     "output_type": "stream",
     "text": [
      "tensor([[ 0.2426,  0.5949,  0.0682],\n",
      "        [ 0.1195,  1.1386,  0.7269],\n",
      "        [ 0.1535, -0.1836, -0.6945],\n",
      "        [-0.0986,  2.2287, -1.4086],\n",
      "        [-0.1263, -1.7757,  0.6453]])\n"
     ]
    }
   ],
   "source": [
    "result=torch.empty(5,3)\n",
    "torch.add(x,y,out=result) #指定输出\n",
    "print(result)"
   ]
  },
  {
   "cell_type": "code",
   "execution_count": 14,
   "metadata": {},
   "outputs": [
    {
     "name": "stdout",
     "output_type": "stream",
     "text": [
      "tensor([[ 0.2426,  0.5949,  0.0682],\n",
      "        [ 0.1195,  1.1386,  0.7269],\n",
      "        [ 0.1535, -0.1836, -0.6945],\n",
      "        [-0.0986,  2.2287, -1.4086],\n",
      "        [-0.1263, -1.7757,  0.6453]])\n"
     ]
    }
   ],
   "source": [
    "# adds x to y\n",
    "y.add_(x) #加法形式三 inplace pytorch中inplace版本都有后缀_,如x.copy_(y)\n",
    "print(y)"
   ]
  },
  {
   "cell_type": "markdown",
   "metadata": {},
   "source": [
    "#### 索引\n",
    "索引的结果与原数据共享内存，修改一个，另一个也会跟着修改"
   ]
  },
  {
   "cell_type": "code",
   "execution_count": 16,
   "metadata": {},
   "outputs": [
    {
     "name": "stdout",
     "output_type": "stream",
     "text": [
      "tensor([1.4839, 1.8918, 2.0014])\n",
      "tensor([1.4839, 1.8918, 2.0014])\n"
     ]
    }
   ],
   "source": [
    "y=x[0,:]\n",
    "y += 1\n",
    "print(y)\n",
    "print(x[0,:]) #改变y,原有的x也会改变"
   ]
  },
  {
   "cell_type": "markdown",
   "metadata": {},
   "source": [
    "#### 改变形状\n",
    "view()"
   ]
  },
  {
   "cell_type": "code",
   "execution_count": 17,
   "metadata": {},
   "outputs": [
    {
     "name": "stdout",
     "output_type": "stream",
     "text": [
      "torch.Size([5, 3]) torch.Size([15]) torch.Size([3, 5])\n"
     ]
    }
   ],
   "source": [
    "y=x.view(15)\n",
    "z=x.view(-1,5) #-1所指的维度可以根据其他维度推算出来\n",
    "print(x.size(),y.size(),z.size())"
   ]
  },
  {
   "cell_type": "markdown",
   "metadata": {},
   "source": [
    "#### view()返回的新Tensor与源Tensor虽然可能有不同的size，但是是共享data的，也即更改其中的一个，另外一个也会跟着改变。(顾名思义，view仅仅是改变了对这个张量的观察角度-视图，内部数据并未改变)"
   ]
  },
  {
   "cell_type": "code",
   "execution_count": 18,
   "metadata": {},
   "outputs": [
    {
     "name": "stdout",
     "output_type": "stream",
     "text": [
      "tensor([[ 2.4839,  2.8918,  3.0014],\n",
      "        [ 0.8802,  2.1110,  0.7280],\n",
      "        [ 0.9535,  0.6628, -0.6166],\n",
      "        [ 0.7069,  2.2526, -0.6284],\n",
      "        [ 0.3753, -1.0883,  1.5108]])\n",
      "tensor([ 2.4839,  2.8918,  3.0014,  0.8802,  2.1110,  0.7280,  0.9535,  0.6628,\n",
      "        -0.6166,  0.7069,  2.2526, -0.6284,  0.3753, -1.0883,  1.5108])\n"
     ]
    }
   ],
   "source": [
    "x += 1\n",
    "print(x)\n",
    "print(y)#y也会+1"
   ]
  },
  {
   "cell_type": "markdown",
   "metadata": {},
   "source": [
    "使用clone()函数返回真正的副本"
   ]
  },
  {
   "cell_type": "code",
   "execution_count": 21,
   "metadata": {},
   "outputs": [
    {
     "name": "stdout",
     "output_type": "stream",
     "text": [
      "tensor([[ 1.4839,  1.8918,  2.0014],\n",
      "        [-0.1198,  1.1110, -0.2720],\n",
      "        [-0.0465, -0.3372, -1.6166],\n",
      "        [-0.2931,  1.2526, -1.6284],\n",
      "        [-0.6247, -2.0883,  0.5108]])\n",
      "tensor([ 2.4839,  2.8918,  3.0014,  0.8802,  2.1110,  0.7280,  0.9535,  0.6628,\n",
      "        -0.6166,  0.7069,  2.2526, -0.6284,  0.3753, -1.0883,  1.5108])\n"
     ]
    }
   ],
   "source": [
    "x_cp=x.clone().view(15)\n",
    "x -= 1\n",
    "print(x)\n",
    "print(x_cp)"
   ]
  },
  {
   "cell_type": "markdown",
   "metadata": {},
   "source": [
    "使用clone还有一个好处是会被记录在计算图中，即梯度回传到副本时也会传到源Tensor。\n",
    "\n",
    "另外一个常用的常用的函数就是item(), 它可以将一个标量Tensor转换成一个Python number："
   ]
  },
  {
   "cell_type": "code",
   "execution_count": 22,
   "metadata": {
    "scrolled": true
   },
   "outputs": [
    {
     "name": "stdout",
     "output_type": "stream",
     "text": [
      "tensor([-1.2615])\n",
      "-1.2615078687667847\n"
     ]
    }
   ],
   "source": [
    "x=torch.randn(1)\n",
    "print(x)\n",
    "print(x.item())"
   ]
  },
  {
   "cell_type": "markdown",
   "metadata": {},
   "source": [
    "#### 线性代数\n",
    "另外，PyTorch还支持一些线性函数，具体用法参考官方文档。
   ]
  }
 ],
 "metadata": {
  "kernelspec": {
   "display_name": "Python [conda env:pytorch]",
   "language": "python",
   "name": "conda-env-pytorch-py"
  },
  "language_info": {
   "codemirror_mode": {
    "name": "ipython",
    "version": 3
   },
   "file_extension": ".py",
   "mimetype": "text/x-python",
   "name": "python",
   "nbconvert_exporter": "python",
   "pygments_lexer": "ipython3",
   "version": "3.6.9"
  }
 },
 "nbformat": 4,
 "nbformat_minor": 2
}
