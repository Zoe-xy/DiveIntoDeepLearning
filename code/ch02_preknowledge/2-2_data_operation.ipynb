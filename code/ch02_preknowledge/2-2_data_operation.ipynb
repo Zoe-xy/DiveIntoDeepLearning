{
 "cells": [
  {
   "cell_type": "markdown",
   "metadata": {},
   "source": [
    "## 数据操作\n",
    "### tensor操作"
   ]
  },
  {
   "cell_type": "markdown",
   "metadata": {},
   "source": [
    "### 1.tensor的创建"
   ]
  },
  {
   "cell_type": "code",
   "execution_count": 1,
   "metadata": {},
   "outputs": [
    {
     "name": "stdout",
     "output_type": "stream",
     "text": [
      "tensor([[7.6728e+34, 4.5916e+27, 9.7374e+15],\n",
      "        [1.1578e+27, 4.3600e+27, 2.8996e+35],\n",
      "        [7.4289e+28, 2.6687e+20, 1.6244e+19],\n",
      "        [1.4351e-19, 2.7530e+12, 7.5338e+28],\n",
      "        [5.6542e+05, 1.1614e+27, 1.9430e-19]])\n"
     ]
    }
   ],
   "source": [
    "import torch\n",
    "x=torch.empty(5,3)#5*3的未初始化的tensor\n",
    "print(x)"
   ]
  },
  {
   "cell_type": "code",
   "execution_count": 2,
   "metadata": {},
   "outputs": [
    {
     "name": "stdout",
     "output_type": "stream",
     "text": [
      "tensor([[0.0889, 0.5923, 0.2946],\n",
      "        [0.4116, 0.3431, 0.3291],\n",
      "        [0.2632, 0.8994, 0.8653],\n",
      "        [0.6747, 0.2467, 0.4824],\n",
      "        [0.8485, 0.5676, 0.8477]])\n"
     ]
    }
   ],
   "source": [
    "x=torch.rand(5,3)#随机初始化的tensor\n",
    "print(x)"
   ]
  },
  {
   "cell_type": "code",
   "execution_count": 3,
   "metadata": {},
   "outputs": [
    {
     "name": "stdout",
     "output_type": "stream",
     "text": [
      "tensor([[0, 0, 0],\n",
      "        [0, 0, 0],\n",
      "        [0, 0, 0],\n",
      "        [0, 0, 0],\n",
      "        [0, 0, 0]])\n"
     ]
    }
   ],
   "source": [
    "x=torch.zeros(5,3,dtype=torch.long)#long型全0的tensor\n",
    "print(x)"
   ]
  },
  {
   "cell_type": "code",
   "execution_count": 4,
   "metadata": {},
   "outputs": [
    {
     "name": "stdout",
     "output_type": "stream",
     "text": [
      "tensor([5.5000, 3.0000])\n"
     ]
    }
   ],
   "source": [
    "x=torch.tensor([5.5,3])#直接用数据创建\n",
    "print(x)"
   ]
  },
  {
   "cell_type": "code",
   "execution_count": 7,
   "metadata": {},
   "outputs": [
    {
     "name": "stdout",
     "output_type": "stream",
     "text": [
      "tensor([[1., 1., 1.],\n",
      "        [1., 1., 1.],\n",
      "        [1., 1., 1.],\n",
      "        [1., 1., 1.],\n",
      "        [1., 1., 1.]], dtype=torch.float64)\n",
      "tensor([[-5.1612e-01, -1.0816e-01,  1.4252e-03],\n",
      "        [-1.1978e-01,  1.1110e+00, -2.7205e-01],\n",
      "        [-4.6467e-02, -3.3716e-01, -1.6166e+00],\n",
      "        [-2.9310e-01,  1.2526e+00, -1.6284e+00],\n",
      "        [-6.2475e-01, -2.0883e+00,  5.1083e-01]])\n"
     ]
    }
   ],
   "source": [
    "x=x.new_ones(5,3,dtype=torch.float64) #使用已有的tensor来创建，默认重用一些属性\n",
    "print(x)\n",
    "\n",
    "x=torch.randn_like(x,dtype=torch.float)#制定新的数据类型\n",
    "print(x)"
   ]
  },
  {
   "cell_type": "code",
   "execution_count": 8,
   "metadata": {},
   "outputs": [
    {
     "name": "stdout",
     "output_type": "stream",
     "text": [
      "torch.Size([5, 3])\n",
      "torch.Size([5, 3])\n"
     ]
    }
   ],
   "source": [
    "print(x.size())\n",
    "print(x.shape)"
   ]
  },
  {
   "cell_type": "markdown",
   "metadata": {},
   "source": [
    "### 2.tensor的操作"
   ]
  },
  {
   "cell_type": "markdown",
   "metadata": {},
   "source": [
    "#### 加法"
   ]
  },
  {
   "cell_type": "code",
   "execution_count": 10,
   "metadata": {},
   "outputs": [
    {
     "name": "stdout",
     "output_type": "stream",
     "text": [
      "tensor([[ 0.2426,  0.5949,  0.0682],\n",
      "        [ 0.1195,  1.1386,  0.7269],\n",
      "        [ 0.1535, -0.1836, -0.6945],\n",
      "        [-0.0986,  2.2287, -1.4086],\n",
      "        [-0.1263, -1.7757,  0.6453]])\n"
     ]
    }
   ],
   "source": [
    "y=torch.rand(5,3)\n",
    "print(x+y)  #加法形式一"
   ]
  },
  {
   "cell_type": "code",
   "execution_count": 12,
   "metadata": {},
   "outputs": [
    {
     "name": "stdout",
     "output_type": "stream",
     "text": [
      "tensor([[ 0.2426,  0.5949,  0.0682],\n",
      "        [ 0.1195,  1.1386,  0.7269],\n",
      "        [ 0.1535, -0.1836, -0.6945],\n",
      "        [-0.0986,  2.2287, -1.4086],\n",
      "        [-0.1263, -1.7757,  0.6453]])\n"
     ]
    }
   ],
   "source": [
    "print(torch.add(x,y))#:加法形式二"
   ]
  },
  {
   "cell_type": "code",
   "execution_count": 13,
   "metadata": {},
   "outputs": [
    {
     "name": "stdout",
     "output_type": "stream",
     "text": [
      "tensor([[ 0.2426,  0.5949,  0.0682],\n",
      "        [ 0.1195,  1.1386,  0.7269],\n",
      "        [ 0.1535, -0.1836, -0.6945],\n",
      "        [-0.0986,  2.2287, -1.4086],\n",
      "        [-0.1263, -1.7757,  0.6453]])\n"
     ]
    }
   ],
   "source": [
    "result=torch.empty(5,3)\n",
    "torch.add(x,y,out=result) #指定输出\n",
    "print(result)"
   ]
  },
  {
   "cell_type": "code",
   "execution_count": 14,
   "metadata": {},
   "outputs": [
    {
     "name": "stdout",
     "output_type": "stream",
     "text": [
      "tensor([[ 0.2426,  0.5949,  0.0682],\n",
      "        [ 0.1195,  1.1386,  0.7269],\n",
      "        [ 0.1535, -0.1836, -0.6945],\n",
      "        [-0.0986,  2.2287, -1.4086],\n",
      "        [-0.1263, -1.7757,  0.6453]])\n"
     ]
    }
   ],
   "source": [
    "# adds x to y\n",
    "y.add_(x) #加法形式三 inplace pytorch中inplace版本都有后缀_,如x.copy_(y)\n",
    "print(y)"
   ]
  },
  {
   "cell_type": "markdown",
   "metadata": {},
   "source": [
    "#### 索引\n",
    "索引的结果与原数据共享内存，修改一个，另一个也会跟着修改"
   ]
  },
  {
   "cell_type": "code",
   "execution_count": 16,
   "metadata": {},
   "outputs": [
    {
     "name": "stdout",
     "output_type": "stream",
     "text": [
      "tensor([1.4839, 1.8918, 2.0014])\n",
      "tensor([1.4839, 1.8918, 2.0014])\n"
     ]
    }
   ],
   "source": [
    "y=x[0,:]\n",
    "y += 1\n",
    "print(y)\n",
    "print(x[0,:]) #改变y,原有的x也会改变"
   ]
  },
  {
   "cell_type": "markdown",
   "metadata": {},
   "source": [
    "#### 改变形状\n",
    "view()"
   ]
  },
  {
   "cell_type": "code",
   "execution_count": 17,
   "metadata": {},
   "outputs": [
    {
     "name": "stdout",
     "output_type": "stream",
     "text": [
      "torch.Size([5, 3]) torch.Size([15]) torch.Size([3, 5])\n"
     ]
    }
   ],
   "source": [
    "y=x.view(15)\n",
    "z=x.view(-1,5) #-1所指的维度可以根据其他维度推算出来\n",
    "print(x.size(),y.size(),z.size())"
   ]
  },
  {
   "cell_type": "markdown",
   "metadata": {},
   "source": [
    "#### view()返回的新Tensor与源Tensor虽然可能有不同的size，但是是共享data的，也即更改其中的一个，另外一个也会跟着改变。(顾名思义，view仅仅是改变了对这个张量的观察角度-视图，内部数据并未改变)"
   ]
  },
  {
   "cell_type": "code",
   "execution_count": 18,
   "metadata": {},
   "outputs": [
    {
     "name": "stdout",
     "output_type": "stream",
     "text": [
      "tensor([[ 2.4839,  2.8918,  3.0014],\n",
      "        [ 0.8802,  2.1110,  0.7280],\n",
      "        [ 0.9535,  0.6628, -0.6166],\n",
      "        [ 0.7069,  2.2526, -0.6284],\n",
      "        [ 0.3753, -1.0883,  1.5108]])\n",
      "tensor([ 2.4839,  2.8918,  3.0014,  0.8802,  2.1110,  0.7280,  0.9535,  0.6628,\n",
      "        -0.6166,  0.7069,  2.2526, -0.6284,  0.3753, -1.0883,  1.5108])\n"
     ]
    }
   ],
   "source": [
    "x += 1\n",
    "print(x)\n",
    "print(y)#y也会+1"
   ]
  },
  {
   "cell_type": "markdown",
   "metadata": {},
   "source": [
    "使用clone()函数返回真正的副本"
   ]
  },
  {
   "cell_type": "code",
   "execution_count": 21,
   "metadata": {},
   "outputs": [
    {
     "name": "stdout",
     "output_type": "stream",
     "text": [
      "tensor([[ 1.4839,  1.8918,  2.0014],\n",
      "        [-0.1198,  1.1110, -0.2720],\n",
      "        [-0.0465, -0.3372, -1.6166],\n",
      "        [-0.2931,  1.2526, -1.6284],\n",
      "        [-0.6247, -2.0883,  0.5108]])\n",
      "tensor([ 2.4839,  2.8918,  3.0014,  0.8802,  2.1110,  0.7280,  0.9535,  0.6628,\n",
      "        -0.6166,  0.7069,  2.2526, -0.6284,  0.3753, -1.0883,  1.5108])\n"
     ]
    }
   ],
   "source": [
    "x_cp=x.clone().view(15)\n",
    "x -= 1\n",
    "print(x)\n",
    "print(x_cp)"
   ]
  },
  {
   "cell_type": "markdown",
   "metadata": {},
   "source": [
    "使用clone还有一个好处是会被记录在计算图中，即梯度回传到副本时也会传到源Tensor。\n",
    "\n",
    "另外一个常用的常用的函数就是item(), 它可以将一个标量Tensor转换成一个Python number："
   ]
  },
  {
   "cell_type": "code",
   "execution_count": 22,
   "metadata": {
    "scrolled": true
   },
   "outputs": [
    {
     "name": "stdout",
     "output_type": "stream",
     "text": [
      "tensor([-1.2615])\n",
      "-1.2615078687667847\n"
     ]
    }
   ],
   "source": [
    "x=torch.randn(1)\n",
    "print(x)\n",
    "print(x.item())"
   ]
  },
  {
   "attachments": {
    "image.png": {
     "image/png": "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"
    }
   },
   "cell_type": "markdown",
   "metadata": {},
   "source": [
    "#### 线性代数\n",
    "另外，PyTorch还支持一些线性函数，具体用法参考官方文档。
   ]
  }
 ],
 "metadata": {
  "kernelspec": {
   "display_name": "Python [conda env:pytorch]",
   "language": "python",
   "name": "conda-env-pytorch-py"
  },
  "language_info": {
   "codemirror_mode": {
    "name": "ipython",
    "version": 3
   },
   "file_extension": ".py",
   "mimetype": "text/x-python",
   "name": "python",
   "nbconvert_exporter": "python",
   "pygments_lexer": "ipython3",
   "version": "3.6.9"
  }
 },
 "nbformat": 4,
 "nbformat_minor": 2
}
